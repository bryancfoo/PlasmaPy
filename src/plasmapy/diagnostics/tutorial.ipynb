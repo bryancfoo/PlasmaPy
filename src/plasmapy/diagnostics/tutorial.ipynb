{
 "cells": [
  {
   "cell_type": "code",
   "execution_count": 1,
   "id": "initial_id",
   "metadata": {
    "collapsed": true,
    "ExecuteTime": {
     "end_time": "2024-09-26T14:53:08.742630Z",
     "start_time": "2024-09-26T14:52:57.445489Z"
    }
   },
   "outputs": [],
   "source": [
    "import numpy as np\n",
    "import matplotlib.pyplot as plt\n",
    "import thomson\n",
    "import astropy.units as u\n",
    "from astropy.constants import m_e, m_p\n",
    "from scipy.special import wofz"
   ]
  },
  {
   "cell_type": "markdown",
   "source": [],
   "metadata": {
    "collapsed": false
   },
   "id": "53894383775d864d"
  },
  {
   "cell_type": "code",
   "outputs": [],
   "source": [],
   "metadata": {
    "collapsed": false
   },
   "id": "649f62fb6fba35e1",
   "execution_count": null
  },
  {
   "cell_type": "markdown",
   "source": [
    "Validate non-Maxwellian function"
   ],
   "metadata": {
    "collapsed": false
   },
   "id": "db47700605481831"
  },
  {
   "cell_type": "markdown",
   "source": [
    "These functions allow us to generate arrays corresponding to Maxwellians with different temperatures and drift velocities."
   ],
   "metadata": {
    "collapsed": false
   },
   "id": "aee10638b2f1b0ff"
  },
  {
   "cell_type": "code",
   "outputs": [],
   "source": [
    "def maxwellian_e(v, T, v_d):\n",
    "    v_unitless = v\n",
    "    T_K = T * 11605\n",
    "    vth = np.sqrt(2 * 1.5156e7 * T_K)\n",
    "    exp_term = -(v_unitless - v_d) ** 2 / (vth ** 2)\n",
    "    return np.exp(exp_term) / np.sqrt(np.pi * vth ** 2)\n",
    "\n",
    "def maxwellian_H(v, T, v_d):\n",
    "    v_unitless = v\n",
    "    T_K = T * 11605\n",
    "    vth = np.sqrt(2 * 8.2544e3 * T_K)\n",
    "    exp_term = -(v_unitless - v_d) ** 2 / (vth ** 2)\n",
    "    return np.exp(exp_term) / np.sqrt(np.pi * vth ** 2)"
   ],
   "metadata": {
    "collapsed": false
   },
   "id": "41fc4936419846f5",
   "execution_count": null
  },
  {
   "cell_type": "code",
   "outputs": [],
   "source": [
    "def maxwellian_e(v, T, v_d):\n",
    "    v_unitless = v\n",
    "    T_K = T * 11605\n",
    "    vth = np.sqrt(2 * 1.5156e7 * T_K)\n",
    "    exp_term = -(v_unitless - v_d) ** 2 / (vth ** 2)\n",
    "    return np.exp(exp_term) / np.sqrt(np.pi * vth ** 2)\n",
    "\n",
    "def maxwellian_D(v, T, v_d):\n",
    "    v_unitless = v\n",
    "    T_K = T * 11605\n",
    "    vth = np.sqrt(2 * 8.2544e3 / 2.014 * T_K)\n",
    "    exp_term = -(v_unitless - v_d) ** 2 / (vth ** 2)\n",
    "    return np.exp(exp_term) / np.sqrt(np.pi * vth ** 2)\n",
    "\n",
    "def maxwellian_C(v, T, v_d):\n",
    "    v_unitless = v\n",
    "    T_K = T * 11605\n",
    "    vth = np.sqrt(2 * 8.2544e3 / 12 * T_K)\n",
    "    exp_term = -(v_unitless - v_d) ** 2 / (vth ** 2)\n",
    "    return np.exp(exp_term) / np.sqrt(np.pi * vth ** 2)"
   ],
   "metadata": {
    "collapsed": false
   },
   "id": "35887898b5c60a8f",
   "execution_count": null
  },
  {
   "cell_type": "markdown",
   "source": [
    "Now we define the electron and ion distributions. Note that everything is dimensionless now, it's more convenient to put the units on in the function call due to how astropy handles units."
   ],
   "metadata": {
    "collapsed": false
   },
   "id": "ccdd55a43657821"
  },
  {
   "cell_type": "code",
   "outputs": [
    {
     "ename": "NameError",
     "evalue": "name 'np' is not defined",
     "output_type": "error",
     "traceback": [
      "\u001B[1;31m---------------------------------------------------------------------------\u001B[0m",
      "\u001B[1;31mNameError\u001B[0m                                 Traceback (most recent call last)",
      "Cell \u001B[1;32mIn[1], line 1\u001B[0m\n\u001B[1;32m----> 1\u001B[0m ve \u001B[38;5;241m=\u001B[39m np\u001B[38;5;241m.\u001B[39mlinspace(\u001B[38;5;241m-\u001B[39m\u001B[38;5;241m2e7\u001B[39m, \u001B[38;5;241m2e7\u001B[39m, \u001B[38;5;241m1000\u001B[39m)\n\u001B[0;32m      2\u001B[0m vi \u001B[38;5;241m=\u001B[39m np\u001B[38;5;241m.\u001B[39mlinspace(\u001B[38;5;241m-\u001B[39m\u001B[38;5;241m1e6\u001B[39m, \u001B[38;5;241m1e6\u001B[39m, \u001B[38;5;241m1000\u001B[39m)\n\u001B[0;32m      4\u001B[0m Te \u001B[38;5;241m=\u001B[39m \u001B[38;5;241m100\u001B[39m\n",
      "\u001B[1;31mNameError\u001B[0m: name 'np' is not defined"
     ]
    }
   ],
   "source": [
    "ve = np.linspace(-2e7, 2e7, 1000)\n",
    "vi = np.linspace(-1e6, 1e6, 1000)\n",
    "\n",
    "Te = 100\n",
    "TD = 200\n",
    "TC = 100\n",
    "\n",
    "ue = 0\n",
    "uD = 0\n",
    "uC = 4e5\n",
    "\n",
    "n = 1e19\n",
    "\n",
    "fe = maxwellian_e(ve, Te, 0)\n",
    "fD = maxwellian_D(vi, TD, 0)\n",
    "fC = maxwellian_C(vi, TC, uC)"
   ],
   "metadata": {
    "collapsed": false,
    "ExecuteTime": {
     "end_time": "2024-09-24T20:46:26.760836Z",
     "start_time": "2024-09-24T20:46:25.895474Z"
    }
   },
   "id": "84fabdb00b15f103",
   "execution_count": 1
  },
  {
   "cell_type": "code",
   "outputs": [],
   "source": [
    "fig, ax = plt.subplots(ncols = 3, figsize = (12, 4))\n",
    "ax[0].semilogy(ve, fe)\n",
    "ax[0].set_title(\"Normalized electron distribution\")\n",
    "ax[0].set_xlabel(\"v [m/s]\")\n",
    "\n",
    "ax[1].semilogy(vi, fD)\n",
    "ax[1].set_title(\"Normalized deuteron distribution\")\n",
    "ax[1].set_xlabel(\"v [m/s]\")\n",
    "\n",
    "ax[2].semilogy(vi, fC)\n",
    "ax[2].set_title(\"Normalized carbon distribution\")\n",
    "ax[2].set_xlabel(\"v [m/s]\")"
   ],
   "metadata": {
    "collapsed": false,
    "ExecuteTime": {
     "start_time": "2024-09-24T20:46:26.761866Z"
    }
   },
   "id": "4adb6f733c3d75cf",
   "execution_count": null
  },
  {
   "cell_type": "markdown",
   "source": [
    "Define the Thomson parameters:"
   ],
   "metadata": {
    "collapsed": false
   },
   "id": "9b1ccbd75fda9b62"
  },
  {
   "cell_type": "code",
   "outputs": [],
   "source": [
    "probe_wavelength = 532\n",
    "epw_wavelengths = np.linspace(probe_wavelength-50, probe_wavelength+50, 200)\n",
    "\n",
    "theta = 63 * np.pi/180\n",
    "\n",
    "probe_vec = np.array([0, np.sin(theta), np.cos(theta)])\n",
    "scatter_vec = np.array([0, np.sin(theta), -np.cos(theta)])\n",
    "\n",
    "notch = np.array([probe_wavelength-10, probe_wavelength+10])"
   ],
   "metadata": {
    "collapsed": false,
    "ExecuteTime": {
     "start_time": "2024-09-24T20:46:26.762867Z"
    }
   },
   "id": "8b7e2d99d08dcb0f",
   "execution_count": null
  },
  {
   "cell_type": "code",
   "outputs": [],
   "source": [
    "chiE = thomson.chi(\n",
    "    wavelengths = epw_wavelengths * u.nm, \n",
    "    probe_wavelength = probe_wavelength * u.nm, \n",
    "    f_k = fe * u.s / u.m, \n",
    "    v_k = ve * u.m / u.s, \n",
    "    n = n * u.cm**(-3), \n",
    "    probe_vec=probe_vec, \n",
    "    scatter_vec = scatter_vec,\n",
    "    z = 1,\n",
    "    mass = m_e)\n",
    "\n",
    "chiE = thomson.chi_lite(\n",
    "    wavelengths=epw_wavelengths*1e-9,\n",
    "    probe_wavelength=probe_wavelength*1e-9,\n",
    "    f_k = fe,\n",
    "    v_k = ve,\n",
    "    n = n*1e6,\n",
    "    probe_vec=probe_vec,\n",
    "    scatter_vec=scatter_vec,\n",
    "    z=1,\n",
    "    mass=m_e.value\n",
    ")"
   ],
   "metadata": {
    "collapsed": false,
    "ExecuteTime": {
     "start_time": "2024-09-24T20:46:26.763849Z"
    }
   },
   "id": "b7a7a7259961ba2d",
   "execution_count": null
  },
  {
   "cell_type": "code",
   "outputs": [],
   "source": [
    "m_e.value"
   ],
   "metadata": {
    "collapsed": false,
    "ExecuteTime": {
     "start_time": "2024-09-24T20:46:26.764850Z"
    }
   },
   "id": "9aa8df1ffce8a84a",
   "execution_count": null
  },
  {
   "cell_type": "code",
   "outputs": [],
   "source": [
    "wofz(1)"
   ],
   "metadata": {
    "collapsed": false,
    "ExecuteTime": {
     "start_time": "2024-09-24T20:46:26.765849Z"
    }
   },
   "id": "6cad6a1bf099ee8",
   "execution_count": null
  },
  {
   "cell_type": "code",
   "outputs": [],
   "source": [
    "plt.plot(epw_wavelengths, np.real(chiE))\n",
    "plt.plot(epw_wavelengths, np.imag(chiE))"
   ],
   "metadata": {
    "collapsed": false,
    "ExecuteTime": {
     "start_time": "2024-09-24T20:46:26.766383Z"
    }
   },
   "id": "9e8fda0e9839ce6",
   "execution_count": null
  },
  {
   "cell_type": "code",
   "outputs": [],
   "source": [
    "alpha, epw_Skw = thomson.spectral_density(\n",
    "    wavelengths = epw_wavelengths * u.nm,\n",
    "    probe_wavelength = probe_wavelength * u.nm,\n",
    "    n = n * u.cm**(-3),\n",
    "    fe_k = np.array([fe]) * u.s / u.m,\n",
    "    ve_k = np.array([ve]) * u.m / u.s,\n",
    "    fi_k = np.array([fD]) * u.s / u.m,\n",
    "    vi_k = np.array([vi]) * u.m / u.s,\n",
    "    #ifract = [0.2, 0.8],\n",
    "    ions = ['D 1+'],\n",
    "    probe_vec=probe_vec,\n",
    "    scatter_vec=scatter_vec,\n",
    "    #notch = notch * u.nm\n",
    ")\n",
    "print(alpha)\n",
    "\n",
    "alpha, epw_Skw_maxwellian = thomson.spectral_density_maxwellian(\n",
    "    wavelengths = epw_wavelengths * u.nm,\n",
    "    probe_wavelength = probe_wavelength * u.nm,\n",
    "    n = n * u.cm**(-3),\n",
    "    T_e = Te * u.eV,\n",
    "    T_i = np.array([TD])*u.eV,\n",
    "    #ifract = [0.2],\n",
    "    ions = ['D 1+'],\n",
    "    probe_vec=probe_vec,\n",
    "    scatter_vec=scatter_vec,\n",
    "    \n",
    ")\n",
    "print(alpha)"
   ],
   "metadata": {
    "collapsed": false,
    "ExecuteTime": {
     "start_time": "2024-09-24T20:46:26.767398Z"
    }
   },
   "id": "4ad8821015230270",
   "execution_count": null
  },
  {
   "cell_type": "code",
   "outputs": [],
   "source": [
    "plt.plot(epw_wavelengths, epw_Skw, label='')\n",
    "\n",
    "plt.plot(epw_wavelengths, epw_Skw_maxwellian, label='')"
   ],
   "metadata": {
    "collapsed": false
   },
   "id": "935b18b44155bcb0",
   "execution_count": null
  },
  {
   "cell_type": "code",
   "outputs": [],
   "source": [],
   "metadata": {
    "collapsed": false,
    "ExecuteTime": {
     "start_time": "2024-09-24T20:46:26.768417Z"
    }
   },
   "id": "c85f4757fec5b35f",
   "execution_count": null
  }
 ],
 "metadata": {
  "kernelspec": {
   "display_name": "Python 3",
   "language": "python",
   "name": "python3"
  },
  "language_info": {
   "codemirror_mode": {
    "name": "ipython",
    "version": 2
   },
   "file_extension": ".py",
   "mimetype": "text/x-python",
   "name": "python",
   "nbconvert_exporter": "python",
   "pygments_lexer": "ipython2",
   "version": "2.7.6"
  }
 },
 "nbformat": 4,
 "nbformat_minor": 5
}
